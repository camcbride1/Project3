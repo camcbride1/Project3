{
 "cells": [
  {
   "cell_type": "code",
   "execution_count": 1,
   "metadata": {},
   "outputs": [],
   "source": [
    "# Setup\n",
    "import pandas as pd\n",
    "import numpy as np\n",
    "import seaborn as sns\n",
    "from datetime import datetime"
   ]
  },
  {
   "cell_type": "markdown",
   "metadata": {},
   "source": [
    "# Introducing Pandas Objects\n",
    "1. Series Objects\n",
    "2. Dataframe Objects\n",
    "3. Index Objects"
   ]
  },
  {
   "cell_type": "code",
   "execution_count": 2,
   "metadata": {},
   "outputs": [
    {
     "name": "stdout",
     "output_type": "stream",
     "text": [
      "0    99\n",
      "1    98\n",
      "2    97\n",
      "3    96\n",
      "dtype: int64\n",
      "[99 98 97 96]\n",
      "RangeIndex(start=0, stop=4, step=1)\n",
      "97\n",
      "0    99\n",
      "1    98\n",
      "dtype: int64\n"
     ]
    }
   ],
   "source": [
    "# Series-1\n",
    "\n",
    "ser = pd.Series([99, 98, 97, 96])       # Create from list\n",
    "print(ser)                              # Display values\n",
    "print(ser.values)                       # Access values\n",
    "print(ser.index)                        # Access indices\n",
    "print(ser[2])                           # Access entry\n",
    "print(ser[0:2])                         # Access sliced values"
   ]
  },
  {
   "cell_type": "code",
   "execution_count": 3,
   "metadata": {},
   "outputs": [
    {
     "name": "stdout",
     "output_type": "stream",
     "text": [
      "a    99\n",
      "b    98\n",
      "c    97\n",
      "d    96\n",
      "dtype: int64\n",
      "98\n"
     ]
    }
   ],
   "source": [
    "# Series-2\n",
    "\n",
    "ser = pd.Series([99, 98, 97, 96],               # Create with specific indices \n",
    "                index = ['a', 'b', 'c', 'd'])\n",
    "print(ser)\n",
    "print(ser['b'])                                 # Access entry from named indices\n"
   ]
  },
  {
   "cell_type": "code",
   "execution_count": 4,
   "metadata": {},
   "outputs": [
    {
     "name": "stdout",
     "output_type": "stream",
     "text": [
      "Mon      54\n",
      "Tues     32\n",
      "Wed      42\n",
      "Thurs    13\n",
      "Fri      84\n",
      "dtype: int64\n",
      "32\n"
     ]
    }
   ],
   "source": [
    "# Series-3\n",
    "\n",
    "salesDict = {   'Mon'   : 54,           # Dictionary for series creation\n",
    "                'Tues'  : 32,\n",
    "                'Wed'   : 42,\n",
    "                'Thurs' : 13,\n",
    "                'Fri'   : 84}\n",
    "\n",
    "salesSeries = pd.Series(salesDict)      # Series creation from dictionary\n",
    "print(salesSeries)\n",
    "print(salesSeries['Tues'])              # Access like a dictionary"
   ]
  },
  {
   "cell_type": "code",
   "execution_count": 5,
   "metadata": {},
   "outputs": [
    {
     "name": "stdout",
     "output_type": "stream",
     "text": [
      "       Sale Count  Profit\n",
      "Mon            54   115.0\n",
      "Tues           32    60.0\n",
      "Wed            42    85.0\n",
      "Thurs          13    12.5\n",
      "Fri            84   190.0\n",
      "Index(['Mon', 'Tues', 'Wed', 'Thurs', 'Fri'], dtype='object')\n",
      "Index(['Sale Count', 'Profit'], dtype='object')\n",
      "Mon      54\n",
      "Tues     32\n",
      "Wed      42\n",
      "Thurs    13\n",
      "Fri      84\n",
      "Name: Sale Count, dtype: int64\n"
     ]
    }
   ],
   "source": [
    "# Dataframe-1\n",
    "\n",
    "profitSeries = (salesSeries.copy() * 2.50) - 20             # Create another series\n",
    "\n",
    "weekProfit = pd.DataFrame({'Sale Count': salesSeries,       # Create dataframe from two series\n",
    "                           'Profit': profitSeries})\n",
    "print(weekProfit)                                           # Display dataframe\n",
    "print(weekProfit.index)                                     # Display indices\n",
    "print(weekProfit.columns)                                   # Display columns\n",
    "print(weekProfit['Sale Count'])                             # Display column"
   ]
  },
  {
   "cell_type": "code",
   "execution_count": 6,
   "metadata": {},
   "outputs": [
    {
     "name": "stdout",
     "output_type": "stream",
     "text": [
      "Index([99, 98, 97, 96, 95], dtype='int64')\n",
      "97\n",
      "This is not allowed\n"
     ]
    }
   ],
   "source": [
    "# Index-1\n",
    "\n",
    "ind = pd.Index([99, 98, 97, 96, 95])        # Create index\n",
    "print(ind)                                  # Display\n",
    "print(ind[2])                               # Access like an array\n",
    "\n",
    "try:                                        # Immutable\n",
    "    ind[2] = 999\n",
    "except:\n",
    "    print(\"This is not allowed\")"
   ]
  },
  {
   "cell_type": "markdown",
   "metadata": {},
   "source": [
    "# Data Indexing and Selection\n",
    "1. Series Data Selection\n",
    "2. Dataframe Data Selection"
   ]
  },
  {
   "cell_type": "code",
   "execution_count": 7,
   "metadata": {},
   "outputs": [
    {
     "name": "stdout",
     "output_type": "stream",
     "text": [
      "99\n",
      "True\n",
      "False\n",
      "b    98\n",
      "c    97\n",
      "d    96\n",
      "dtype: int64\n",
      "a    99\n",
      "c    97\n",
      "dtype: int64\n",
      "a    99\n",
      "b    98\n",
      "c    97\n",
      "dtype: int64\n",
      "b    98\n",
      "c    97\n",
      "dtype: int64\n"
     ]
    }
   ],
   "source": [
    "# Series Data Selection-1\n",
    "\n",
    "ser = pd.Series([99, 98, 97, 96],               # Create series\n",
    "                index = ['a', 'b', 'c', 'd'])\n",
    "\n",
    "print(ser['a'])                                 # Access by index\n",
    "print('c' in ser)                               # Python 'in' keyword\n",
    "print('e' in ser)                               # Python 'in' keyword\n",
    "print(ser['b':'d'])                             # Slicing\n",
    "print(ser[['a', 'c']])                          # Fancy indexing\n",
    "\n",
    "print(ser.loc['a':'c'])                         # Using explicit reference\n",
    "print(ser.iloc[1:3])                            # Using implicit reference"
   ]
  },
  {
   "cell_type": "code",
   "execution_count": 8,
   "metadata": {},
   "outputs": [
    {
     "name": "stdout",
     "output_type": "stream",
     "text": [
      "Mon      54\n",
      "Tues     32\n",
      "Wed      42\n",
      "Thurs    13\n",
      "Fri      84\n",
      "Name: Sale Count, dtype: int64\n",
      "       Sale Count  Profit  Profit per sale\n",
      "Mon            54   115.0         2.129630\n",
      "Tues           32    60.0         1.875000\n",
      "Wed            42    85.0         2.023810\n",
      "Thurs          13    12.5         0.961538\n",
      "Fri            84   190.0         2.261905\n",
      "[[ 54.         115.           2.12962963]\n",
      " [ 32.          60.           1.875     ]\n",
      " [ 42.          85.           2.02380952]\n",
      " [ 13.          12.5          0.96153846]\n",
      " [ 84.         190.           2.26190476]]\n",
      "                       Mon    Tues       Wed      Thurs         Fri\n",
      "Sale Count        54.00000  32.000  42.00000  13.000000   84.000000\n",
      "Profit           115.00000  60.000  85.00000  12.500000  190.000000\n",
      "Profit per sale    2.12963   1.875   2.02381   0.961538    2.261905\n"
     ]
    }
   ],
   "source": [
    "# Dataframe Data Selection-1\n",
    "\n",
    "weekProfit = pd.DataFrame({'Sale Count': salesSeries,                           # Create dataframe from two series\n",
    "                           'Profit': profitSeries})\n",
    "\n",
    "print(weekProfit['Sale Count'])\n",
    "weekProfit['Profit per sale'] = weekProfit['Profit']/ weekProfit['Sale Count']  # Create a new column\n",
    "print(weekProfit)\n",
    "print(weekProfit.values)                                                        # Access values\n",
    "print(weekProfit.T)                                                             # Transpose"
   ]
  },
  {
   "cell_type": "markdown",
   "metadata": {},
   "source": [
    "# Operating on Data in Pandas\n",
    "1. Ufuncs on Series\n",
    "2. Ufuncs on Dataframe"
   ]
  },
  {
   "cell_type": "code",
   "execution_count": 9,
   "metadata": {},
   "outputs": [
    {
     "name": "stdout",
     "output_type": "stream",
     "text": [
      "       Sale Count  Profit  Profit per sale\n",
      "Mon            54   115.0         2.129630\n",
      "Tues           32    60.0         1.875000\n",
      "Wed            42    85.0         2.023810\n",
      "Thurs          13    12.5         0.961538\n",
      "Fri            84   190.0         2.261905\n",
      "Mon      2.944680\n",
      "Tues     1.896481\n",
      "Wed      2.316367\n",
      "Thurs    1.296930\n",
      "Fri      5.365556\n",
      "Name: Sale Count, dtype: float64\n"
     ]
    }
   ],
   "source": [
    "# Ufuncs on Series-1\n",
    "\n",
    "print(weekProfit)\n",
    "print(np.exp(weekProfit['Sale Count'] * .02))       # Index perserved Ufunc\n"
   ]
  },
  {
   "cell_type": "code",
   "execution_count": 10,
   "metadata": {},
   "outputs": [
    {
     "name": "stdout",
     "output_type": "stream",
     "text": [
      "a          NaN\n",
      "b    49.000000\n",
      "c    32.333333\n",
      "d    24.000000\n",
      "e          NaN\n",
      "dtype: float64\n",
      "a    99.0\n",
      "b    96.0\n",
      "c    94.0\n",
      "d    92.0\n",
      "e    -1.0\n",
      "dtype: float64\n"
     ]
    }
   ],
   "source": [
    "# Ufuncs on Series-2\n",
    "\n",
    "ser1 = pd.Series([99, 98, 97, 96],                  # Create series\n",
    "                index = ['a', 'b', 'c', 'd'])\n",
    "ser2 = pd.Series([1, 2, 3, 4],                      # Create series\n",
    "                index = ['e', 'b', 'c', 'd'])\n",
    "\n",
    "print(ser1/ ser2)                                   #Index alignment\n",
    "print(ser1.subtract(ser2, fill_value = 0))          #Index alignment with fill"
   ]
  },
  {
   "cell_type": "code",
   "execution_count": 35,
   "metadata": {},
   "outputs": [
    {
     "name": "stdout",
     "output_type": "stream",
     "text": [
      "       Profit  Profit per sale  Sale Count\n",
      "Fri    105.00              NaN        42.0\n",
      "Mon       NaN              NaN         NaN\n",
      "Thurs   16.25              NaN         6.5\n",
      "Tues    40.00              NaN        16.0\n",
      "Wed     52.50              NaN        21.0\n"
     ]
    }
   ],
   "source": [
    "# Ufuncs on Dataframe\n",
    "\n",
    "salesSeries2 = salesSeries.copy()*1.5\n",
    "profitSeries2 = (salesSeries2.copy() * 2.50) - 20 \n",
    "\n",
    "weekProfit2 = pd.DataFrame({'Sale Count': salesSeries2,         # Create 2nd dataframe\n",
    "                           'Profit': profitSeries2})\n",
    "weekProfit2 = weekProfit2.drop(['Mon'])                         # Delete row\n",
    "print(weekProfit2.subtract(weekProfit))                         # Index alignment of a dataframe"
   ]
  },
  {
   "cell_type": "markdown",
   "metadata": {},
   "source": [
    "# Handling Missing Data\n",
    "1. NaN and None"
   ]
  },
  {
   "cell_type": "code",
   "execution_count": 12,
   "metadata": {},
   "outputs": [
    {
     "name": "stdout",
     "output_type": "stream",
     "text": [
      "       Sale Count  Profit  Profit per sale\n",
      "Mon            54     NaN         2.129630\n",
      "Tues           32    60.0         1.875000\n",
      "Wed            42    85.0         2.023810\n",
      "Thurs          13    12.5         0.961538\n",
      "Fri            84   190.0         2.261905\n",
      "       Sale Count  Profit  Profit per sale\n",
      "Mon            54     NaN         2.129630\n",
      "Tues           32    60.0         1.875000\n",
      "Wed            42    85.0         2.023810\n",
      "Thurs          13    12.5         0.961538\n",
      "Fri            84   190.0         2.261905\n",
      "       Sale Count  Profit  Profit per sale\n",
      "Mon         False    True            False\n",
      "Tues        False   False            False\n",
      "Wed         False   False            False\n",
      "Thurs       False   False            False\n",
      "Fri         False   False            False\n",
      "       Sale Count  Profit  Profit per sale\n",
      "Tues           32    60.0         1.875000\n",
      "Wed            42    85.0         2.023810\n",
      "Thurs          13    12.5         0.961538\n",
      "Fri            84   190.0         2.261905\n",
      "       Sale Count  Profit  Profit per sale\n",
      "Mon            54     0.0         2.129630\n",
      "Tues           32    60.0         1.875000\n",
      "Wed            42    85.0         2.023810\n",
      "Thurs          13    12.5         0.961538\n",
      "Fri            84   190.0         2.261905\n"
     ]
    }
   ],
   "source": [
    "# NaN and None\n",
    "\n",
    "weekProfit.loc['Mon', 'Profit'] = np.nan        # Insert NaN value\n",
    "print(weekProfit)\n",
    "weekProfit.loc['Mon', 'Profit'] += 10           # Value is still NaN\n",
    "print(weekProfit)\n",
    "print(weekProfit.isnull())                      # Check for Null value\n",
    "print(weekProfit.dropna())                      # Drop Null rows\n",
    "print(weekProfit.fillna(0))                     # Fill NaN values"
   ]
  },
  {
   "cell_type": "markdown",
   "metadata": {},
   "source": [
    "# Hierarchical Indexing\n",
    "1. Series Multi-Index\n",
    "2. Dataframe Multi-Index"
   ]
  },
  {
   "cell_type": "code",
   "execution_count": 13,
   "metadata": {},
   "outputs": [
    {
     "name": "stdout",
     "output_type": "stream",
     "text": [
      "Week 1    13\n",
      "Week 2    89\n",
      "dtype: int64\n"
     ]
    }
   ],
   "source": [
    "# Series Multi-Index\n",
    "\n",
    "# Create data for Series\n",
    "weekTuples = [('Week 1', 'Mon'),\n",
    "              ('Week 1', 'Tues'),\n",
    "              ('Week 1', 'Wed'),\n",
    "              ('Week 1', 'Thurs'),\n",
    "              ('Week 1', 'Fri'),\n",
    "              ('Week 2', 'Mon'),\n",
    "              ('Week 2', 'Tues'),\n",
    "              ('Week 2', 'Wed'),\n",
    "              ('Week 2', 'Thurs'),\n",
    "              ('Week 2', 'Fri'),\n",
    "              ]\n",
    "index = pd.MultiIndex.from_tuples(weekTuples)\n",
    "saleList = [54, 32, 42, 13, 84, 22, 78, 64, 89, 26]\n",
    "\n",
    "# Create Series\n",
    "sales = pd.Series(saleList, index = index)\n",
    "\n",
    "# Access data\n",
    "print(sales[:, 'Thurs'])"
   ]
  },
  {
   "cell_type": "code",
   "execution_count": 14,
   "metadata": {},
   "outputs": [
    {
     "name": "stdout",
     "output_type": "stream",
     "text": [
      "        Fri  Mon  Thurs  Tues  Wed\n",
      "Week 1   84   54     13    32   42\n",
      "Week 2   26   22     89    78   64\n",
      "             Store 1  Store 2\n",
      "Week1 Mon         12       78\n",
      "      Tues        46       15\n",
      "      Wed         78       94\n",
      "      Thurs       78       49\n",
      "      Fri         78       84\n",
      "Week2 Mon         56       78\n",
      "      Tues        94       45\n",
      "      Wed         78       61\n",
      "      Thurs       64       94\n",
      "      Fri         78       31\n",
      "45\n"
     ]
    }
   ],
   "source": [
    "# Dataframe Multi-Index\n",
    "\n",
    "# Turn stacked Series to a dataframe\n",
    "salesDF = sales.unstack()\n",
    "print(salesDF)\n",
    "\n",
    "# Create data for DF\n",
    "index = pd.MultiIndex.from_tuples(weekTuples)\n",
    "saleList2 = np.array([12, 78, 46, 15, 78, 94, 78, 49, 78, 84, 56, 78, 94, 45, 78, 61, 64, 94, 78, 31])\n",
    "saleList2 = saleList2.reshape(10, 2)\n",
    "\n",
    "saleDF = pd.DataFrame(saleList2, \n",
    "                  index = [['Week1','Week1','Week1','Week1','Week1','Week2','Week2','Week2','Week2','Week2'],\n",
    "                            ['Mon', 'Tues', 'Wed', 'Thurs', 'Fri', 'Mon', 'Tues', 'Wed', 'Thurs', 'Fri']], \n",
    "                            columns = ['Store 1', 'Store 2'])\n",
    "print(saleDF)\n",
    "\n",
    "# Access specific data\n",
    "print(saleDF.loc[('Week2', 'Tues'), 'Store 2'])"
   ]
  },
  {
   "cell_type": "markdown",
   "metadata": {},
   "source": [
    "# Concat and Append\n",
    "1. Concat \n",
    "2. Append"
   ]
  },
  {
   "cell_type": "code",
   "execution_count": 15,
   "metadata": {},
   "outputs": [
    {
     "name": "stdout",
     "output_type": "stream",
     "text": [
      "1    99\n",
      "2    98\n",
      "3    97\n",
      "4     1\n",
      "5    96\n",
      "6    95\n",
      "7    94\n",
      "8     2\n",
      "dtype: int64\n",
      "    0\n",
      "1  99\n",
      "2  98\n",
      "3  97\n",
      "4   1\n",
      "\n",
      "    0\n",
      "5  96\n",
      "6  95\n",
      "7  94\n",
      "8   2\n",
      "\n",
      "    0\n",
      "1  99\n",
      "2  98\n",
      "3  97\n",
      "4   1\n",
      "5  96\n",
      "6  95\n",
      "7  94\n",
      "8   2\n"
     ]
    }
   ],
   "source": [
    "# Concat\n",
    "\n",
    "# Series Concat\n",
    "series1 = pd.Series([99, 98, 97, 1], index=[1, 2, 3, 4])\n",
    "series2 = pd.Series([96, 95, 94, 2], index=[5, 6, 7, 8])\n",
    "print(pd.concat([series1, series2]))\n",
    "\n",
    "# Dataframe Concat\n",
    "df1 = pd.DataFrame(series1)\n",
    "df2 = pd.DataFrame(series2)\n",
    "print(df1)\n",
    "print()\n",
    "print(df2)\n",
    "print()\n",
    "print(pd.concat([df1, df2]))"
   ]
  },
  {
   "cell_type": "code",
   "execution_count": 16,
   "metadata": {},
   "outputs": [
    {
     "name": "stdout",
     "output_type": "stream",
     "text": [
      "    0\n",
      "1  99\n",
      "2  98\n",
      "3  97\n",
      "4   1\n",
      "\n",
      "    0\n",
      "5  96\n",
      "6  95\n",
      "7  94\n",
      "8   2\n",
      "\n",
      "    0\n",
      "1  99\n",
      "2  98\n",
      "3  97\n",
      "4   1\n"
     ]
    }
   ],
   "source": [
    "# Append\n",
    "\n",
    "# Dataframe Concat\n",
    "df1 = pd.DataFrame(series1)\n",
    "df2 = pd.DataFrame(series2)\n",
    "print(df1)\n",
    "print()\n",
    "print(df2)\n",
    "print()\n",
    "#df1.append(df2)   Was deprecated the removed as stated in https://pandas.pydata.org/pandas-docs/version/1.5/reference/api/pandas.DataFrame.append.html\n",
    "print(df1)"
   ]
  },
  {
   "cell_type": "markdown",
   "metadata": {},
   "source": [
    "# Merge\n",
    "1. Merge"
   ]
  },
  {
   "cell_type": "code",
   "execution_count": 17,
   "metadata": {},
   "outputs": [
    {
     "name": "stdout",
     "output_type": "stream",
     "text": [
      "  Store Location  Profit\n",
      "0       Savannah  123456\n",
      "1     Louisville   51753\n",
      "2     Louisville  654852\n",
      "3        Atlanta  317962 \n",
      "\n",
      "  Store Location  Open Year\n",
      "0        Atlanta       2004\n",
      "1       Savannah       2008\n",
      "2     Louisville       2012 \n",
      "\n",
      "  Store Location  Profit  Open Year\n",
      "0       Savannah  123456       2008\n",
      "1     Louisville   51753       2012\n",
      "2     Louisville  654852       2012\n",
      "3        Atlanta  317962       2004\n"
     ]
    }
   ],
   "source": [
    "# Merge-1\n",
    "\n",
    "# Two Louisville stores\n",
    "df1 = pd.DataFrame({'Store Location': ['Savannah', 'Louisville', 'Louisville', 'Atlanta'],\n",
    "                    'Profit': [123456, 51753, 654852, 317962]})\n",
    "df2 = pd.DataFrame({'Store Location': ['Atlanta', 'Savannah', 'Louisville'],\n",
    "                    'Open Year': [2004, 2008, 2012]})\n",
    "df3 = pd.merge(df1, df2)\n",
    "\n",
    "print(df1, '\\n')\n",
    "print(df2, '\\n')\n",
    "print(df3)"
   ]
  },
  {
   "cell_type": "code",
   "execution_count": 18,
   "metadata": {},
   "outputs": [
    {
     "name": "stdout",
     "output_type": "stream",
     "text": [
      "  Store Location  Profit  Open Year\n",
      "0       Savannah  123456       2008\n",
      "1     Louisville   51753       2012\n",
      "2     Louisville  654852       2012\n",
      "3        Atlanta  317962       2004 \n",
      "\n",
      "  Store Location Supervisor\n",
      "0       Savannah        Kim\n",
      "1     Louisville      Lowry\n",
      "2        Atlanta    Carrier \n",
      "\n",
      "  Store Location  Profit  Open Year Supervisor\n",
      "0       Savannah  123456       2008        Kim\n",
      "1     Louisville   51753       2012      Lowry\n",
      "2     Louisville  654852       2012      Lowry\n",
      "3        Atlanta  317962       2004    Carrier \n",
      "\n"
     ]
    }
   ],
   "source": [
    "#Merge-2\n",
    "\n",
    "df4 = pd.DataFrame({'Store Location': ['Savannah', 'Louisville',  'Atlanta'],\n",
    "                    'Supervisor': ['Kim', 'Lowry', 'Carrier']})\n",
    "\n",
    "print(df3, '\\n')\n",
    "print(df4, '\\n')\n",
    "print(pd.merge(df3, df4), '\\n')"
   ]
  },
  {
   "cell_type": "code",
   "execution_count": 19,
   "metadata": {},
   "outputs": [
    {
     "name": "stdout",
     "output_type": "stream",
     "text": [
      "  Store Location  Profit       Store  Open Year\n",
      "0       Savannah  123456    Savannah       2008\n",
      "1     Louisville   51753  Louisville       2012\n",
      "2     Louisville  654852  Louisville       2012\n",
      "3        Atlanta  317962     Atlanta       2004\n"
     ]
    }
   ],
   "source": [
    "#Merge-3\n",
    "\n",
    "df5 = pd.DataFrame({'Store': ['Atlanta', 'Savannah', 'Louisville'],\n",
    "                    'Open Year': [2004, 2008, 2012]})\n",
    "\n",
    "df6 = pd.merge(df1, df5, left_on = 'Store Location', right_on = 'Store')\n",
    "print(df6)"
   ]
  },
  {
   "cell_type": "markdown",
   "metadata": {},
   "source": [
    "# Aggregation and Grouping\n",
    "1. Aggregations\n",
    "2. GroupBy"
   ]
  },
  {
   "cell_type": "code",
   "execution_count": 20,
   "metadata": {},
   "outputs": [
    {
     "name": "stdout",
     "output_type": "stream",
     "text": [
      "0    9.600173\n",
      "1    6.995120\n",
      "2    9.998673\n",
      "3    2.200673\n",
      "4    3.610564\n",
      "5    7.398410\n",
      "dtype: float64\n",
      "39.80361289865721\n",
      "6.633935483109535\n"
     ]
    }
   ],
   "source": [
    "# Aggregations-1\n",
    "\n",
    "# Series\n",
    "randSeed = np.random.RandomState(24)\n",
    "series1 = pd.Series(randSeed.rand(6)) * 10\n",
    "print(series1)\n",
    "print(series1.sum())                            # Aggregation\n",
    "print(series1.mean())                           # Aggregation"
   ]
  },
  {
   "cell_type": "code",
   "execution_count": 21,
   "metadata": {},
   "outputs": [
    {
     "name": "stdout",
     "output_type": "stream",
     "text": [
      "         C1        C2\n",
      "0  9.964557  7.096516\n",
      "1  3.163470  9.001424\n",
      "2  1.365446  5.341154\n",
      "3  3.839800  2.472938\n",
      "4  3.205193  6.718066\n",
      "5  3.664148  5.617291 \n",
      "\n",
      "C1    4.200436\n",
      "C2    6.041231\n",
      "dtype: float64 \n",
      "\n",
      "0    8.530536\n",
      "1    6.082447\n",
      "2    3.353300\n",
      "3    3.156369\n",
      "4    4.961629\n",
      "5    4.640719\n",
      "dtype: float64\n"
     ]
    }
   ],
   "source": [
    "# Aggregations-2\n",
    "\n",
    "# Dataframes\n",
    "df = pd.DataFrame({'C1': randSeed.rand(6) * 10,\n",
    "                   'C2': randSeed.rand(6) * 10})\n",
    "print(df,'\\n')\n",
    "print(df.mean(), '\\n')                              # Aggregation\n",
    "print(df.mean(axis = 'columns'))                    # Aggregation by column"
   ]
  },
  {
   "cell_type": "code",
   "execution_count": 22,
   "metadata": {},
   "outputs": [
    {
     "name": "stdout",
     "output_type": "stream",
     "text": [
      "  keys  values\n",
      "0    D      99\n",
      "1    E      98\n",
      "2    F      97\n",
      "3    D      96\n",
      "4    E      95\n",
      "5    F      94 \n",
      "\n",
      "      values\n",
      "keys        \n",
      "D       97.5\n",
      "E       96.5\n",
      "F       95.5\n"
     ]
    }
   ],
   "source": [
    "# GroupBy-1\n",
    "\n",
    "df = pd.DataFrame({'keys': ['D', 'E', 'F', 'D', 'E', 'F'],\n",
    "                   'values': range(99, 93, -1)}, columns=['keys', 'values'])\n",
    "print(df, '\\n')\n",
    "print(df.groupby('keys').mean())                # Using GroupBy"
   ]
  },
  {
   "cell_type": "code",
   "execution_count": 23,
   "metadata": {},
   "outputs": [
    {
     "name": "stdout",
     "output_type": "stream",
     "text": [
      "     values1            values2           \n",
      "         min median max     min median max\n",
      "keys                                      \n",
      "D         96   97.5  99       1    4.0   7\n",
      "E         95   96.5  98       6    6.0   6\n",
      "F         94   95.5  97       1    1.0   1\n"
     ]
    }
   ],
   "source": [
    "# GroupBy-2\n",
    "\n",
    "df = pd.DataFrame({'keys': ['D', 'E', 'F', 'D', 'E', 'F'],\n",
    "                   'values1': range(99, 93, -1),\n",
    "                   'values2': randSeed.randint(0, 10, 6)}, columns=['keys', 'values1', 'values2'])\n",
    "print(df.groupby('keys').aggregate(['min', 'median', 'max']))"
   ]
  },
  {
   "cell_type": "markdown",
   "metadata": {},
   "source": [
    "# Pivot Tables\n",
    "1. Pivot Table"
   ]
  },
  {
   "cell_type": "code",
   "execution_count": 24,
   "metadata": {},
   "outputs": [
    {
     "name": "stdout",
     "output_type": "stream",
     "text": [
      "    species     island  bill_length_mm  bill_depth_mm  flipper_length_mm  \\\n",
      "0    Adelie  Torgersen            39.1           18.7              181.0   \n",
      "1    Adelie  Torgersen            39.5           17.4              186.0   \n",
      "2    Adelie  Torgersen            40.3           18.0              195.0   \n",
      "3    Adelie  Torgersen             NaN            NaN                NaN   \n",
      "4    Adelie  Torgersen            36.7           19.3              193.0   \n",
      "..      ...        ...             ...            ...                ...   \n",
      "339  Gentoo     Biscoe             NaN            NaN                NaN   \n",
      "340  Gentoo     Biscoe            46.8           14.3              215.0   \n",
      "341  Gentoo     Biscoe            50.4           15.7              222.0   \n",
      "342  Gentoo     Biscoe            45.2           14.8              212.0   \n",
      "343  Gentoo     Biscoe            49.9           16.1              213.0   \n",
      "\n",
      "     body_mass_g     sex  \n",
      "0         3750.0    Male  \n",
      "1         3800.0  Female  \n",
      "2         3250.0  Female  \n",
      "3            NaN     NaN  \n",
      "4         3450.0  Female  \n",
      "..           ...     ...  \n",
      "339          NaN     NaN  \n",
      "340       4850.0  Female  \n",
      "341       5750.0    Male  \n",
      "342       5200.0  Female  \n",
      "343       5400.0    Male  \n",
      "\n",
      "[344 rows x 7 columns]\n"
     ]
    }
   ],
   "source": [
    "# Pivot Tables-1\n",
    "\n",
    "# Acquire a dataset from seaborn.\n",
    "penguins = sns.load_dataset('penguins')\n",
    "print(penguins)\n"
   ]
  },
  {
   "cell_type": "code",
   "execution_count": 25,
   "metadata": {},
   "outputs": [
    {
     "name": "stdout",
     "output_type": "stream",
     "text": [
      "species       Adelie    Chinstrap       Gentoo\n",
      "sex                                           \n",
      "Female   3368.835616  3527.205882  4679.741379\n",
      "Male     4043.493151  3938.970588  5484.836066\n"
     ]
    }
   ],
   "source": [
    "# Pivot Tables-2\n",
    "\n",
    "# Simple pivot table describing the average body mass in grams of three different penguin species to sex.  \n",
    "print(penguins.pivot_table('body_mass_g', index = 'sex', columns = 'species'))"
   ]
  },
  {
   "cell_type": "code",
   "execution_count": 26,
   "metadata": {},
   "outputs": [
    {
     "name": "stdout",
     "output_type": "stream",
     "text": [
      "species                Adelie    Chinstrap       Gentoo\n",
      "sex    island                                          \n",
      "Female Biscoe     3369.318182          NaN  4679.741379\n",
      "       Dream      3344.444444  3527.205882          NaN\n",
      "       Torgersen  3395.833333          NaN          NaN\n",
      "Male   Biscoe     4050.000000          NaN  5484.836066\n",
      "       Dream      4045.535714  3938.970588          NaN\n",
      "       Torgersen  4034.782609          NaN          NaN\n"
     ]
    }
   ],
   "source": [
    "# Pivot Tables-3\n",
    "\n",
    "# Multi-level pivot table describing the average body mass in grams of three different penguin species on three different islands to sex.  \n",
    "print(penguins.pivot_table('body_mass_g', index = ['sex', 'island'], columns = 'species'))"
   ]
  },
  {
   "cell_type": "markdown",
   "metadata": {},
   "source": [
    "# Vectorized String Operations\n",
    "1. Vectorized String Operations"
   ]
  },
  {
   "cell_type": "code",
   "execution_count": 27,
   "metadata": {},
   "outputs": [
    {
     "name": "stdout",
     "output_type": "stream",
     "text": [
      "0    eXaMpLe1\n",
      "1    EXAMPLE2\n",
      "2    example3\n",
      "3    Example4\n",
      "dtype: object\n"
     ]
    }
   ],
   "source": [
    "# Vectorized String Operations-1\n",
    "\n",
    "# Create series for manipulation\n",
    "strData = ['eXaMpLe1', 'EXAMPLE2', 'example3', 'Example4']\n",
    "strSer = pd.Series(strData)\n",
    "print(strSer)"
   ]
  },
  {
   "cell_type": "code",
   "execution_count": 28,
   "metadata": {},
   "outputs": [
    {
     "name": "stdout",
     "output_type": "stream",
     "text": [
      "0    example1\n",
      "1    example2\n",
      "2    example3\n",
      "3    example4\n",
      "dtype: object\n",
      "0    EXAMPLE1\n",
      "1    EXAMPLE2\n",
      "2    EXAMPLE3\n",
      "3    EXAMPLE4\n",
      "dtype: object\n",
      "0    Example1\n",
      "1    Example2\n",
      "2    Example3\n",
      "3    Example4\n",
      "dtype: object\n",
      "0    False\n",
      "1     True\n",
      "2    False\n",
      "3    False\n",
      "dtype: bool\n"
     ]
    }
   ],
   "source": [
    "# Vectorized String Operations-2\n",
    "\n",
    "#Examples of pandas string methods\n",
    "print(strSer.str.lower())\n",
    "print(strSer.str.upper())\n",
    "print(strSer.str.capitalize())\n",
    "print(strSer.str.isupper())"
   ]
  },
  {
   "cell_type": "markdown",
   "metadata": {},
   "source": [
    "# Working with Time Series\n",
    "1. Date and Time\n",
    "2. Indexing by Pandas Time\n",
    "3. Frequencies and Offsets"
   ]
  },
  {
   "cell_type": "code",
   "execution_count": 29,
   "metadata": {},
   "outputs": [
    {
     "name": "stdout",
     "output_type": "stream",
     "text": [
      "2024-06-05 00:00:00\n",
      "2024-06-05\n",
      "2024-06-05 00:00:00\n"
     ]
    }
   ],
   "source": [
    "# Date and Time-1\n",
    "\n",
    "# Python Date\n",
    "date1 = datetime(year=2024, month=6, day=5)\n",
    "print(date1)\n",
    "\n",
    "# Numpy Date\n",
    "date2 = np.array('2024-06-05', dtype=np.datetime64)\n",
    "print(date2)\n",
    "\n",
    "# Pandas Date\n",
    "date3 = pd.to_datetime('5th of June, 2024')\n",
    "print(date3)"
   ]
  },
  {
   "cell_type": "code",
   "execution_count": 30,
   "metadata": {},
   "outputs": [
    {
     "name": "stdout",
     "output_type": "stream",
     "text": [
      "2024-07-23    0\n",
      "2024-08-23    1\n",
      "2024-09-23    2\n",
      "2024-10-23    3\n",
      "dtype: int64\n",
      "1\n"
     ]
    }
   ],
   "source": [
    "# Indexing by Pandas Time-1\n",
    "\n",
    "# Create dataframe\n",
    "dates = pd.DatetimeIndex(['2024-07-23', '2024-08-23',\n",
    "                          '2024-09-23', '2024-10-23'])\n",
    "data = pd.Series([0, 1, 2, 3], index=dates)\n",
    "print(data)\n",
    "\n",
    "# Access dataframe with date\n",
    "print(data['2024-08-23'])"
   ]
  },
  {
   "cell_type": "code",
   "execution_count": 31,
   "metadata": {},
   "outputs": [
    {
     "name": "stdout",
     "output_type": "stream",
     "text": [
      "TimedeltaIndex(['0 days 00:00:00', '0 days 02:00:00', '0 days 04:00:00',\n",
      "                '0 days 06:00:00', '0 days 08:00:00', '0 days 10:00:00',\n",
      "                '0 days 12:00:00', '0 days 14:00:00', '0 days 16:00:00',\n",
      "                '0 days 18:00:00', '0 days 20:00:00', '0 days 22:00:00',\n",
      "                '1 days 00:00:00'],\n",
      "               dtype='timedelta64[ns]', freq='2h')\n"
     ]
    }
   ],
   "source": [
    "# Indexing by Pandas Time-1\n",
    "\n",
    "# Create time range\n",
    "timeRange = pd.timedelta_range(0, periods = 13, freq = '2h')\n",
    "print(timeRange)"
   ]
  },
  {
   "cell_type": "markdown",
   "metadata": {},
   "source": [
    "# Eval and Query\n",
    "1. Dataframe eval\n",
    "2. Dataframe query"
   ]
  },
  {
   "cell_type": "code",
   "execution_count": 36,
   "metadata": {},
   "outputs": [
    {
     "name": "stdout",
     "output_type": "stream",
     "text": [
      "          A         B         C\n",
      "0  6.047945  4.606039  5.661392\n",
      "1  5.688322  5.943732  5.104737\n",
      "2  0.536752  7.556226  7.302303\n",
      "3  4.533575  6.819248  3.232493\n",
      "4  5.003490  1.989412  2.275592\n",
      "0    2.285580\n",
      "1    2.833813\n",
      "2    1.284130\n",
      "3    5.085266\n",
      "4    5.482084\n",
      "dtype: float64\n"
     ]
    }
   ],
   "source": [
    "# Dataframe eval\n",
    "\n",
    "# Create Dataframe\n",
    "df = pd.DataFrame(randSeed.rand(200, 3) * 10, columns=['A', 'B', 'C'])\n",
    "print(df.head())\n",
    "\n",
    "# eval for column opperation\n",
    "result1 = df.eval('(A + B) / (C - 1)')\n",
    "print(result1.head())"
   ]
  },
  {
   "cell_type": "code",
   "execution_count": 33,
   "metadata": {},
   "outputs": [
    {
     "name": "stdout",
     "output_type": "stream",
     "text": [
      "           A         B         C\n",
      "1   3.448427  9.462354  9.202870\n",
      "3   1.882603  3.616646  9.375828\n",
      "5   3.359947  2.372184  5.246915\n",
      "11  4.910423  4.364557  7.728514\n",
      "13  4.314714  4.631845  7.097495\n"
     ]
    }
   ],
   "source": [
    "# Dataframe query\n",
    "\n",
    "# Query operation then display\n",
    "result2 = df.query('A < 5 and C > 5')\n",
    "print(result2.head())"
   ]
  }
 ],
 "metadata": {
  "kernelspec": {
   "display_name": "Python 3",
   "language": "python",
   "name": "python3"
  },
  "language_info": {
   "codemirror_mode": {
    "name": "ipython",
    "version": 3
   },
   "file_extension": ".py",
   "mimetype": "text/x-python",
   "name": "python",
   "nbconvert_exporter": "python",
   "pygments_lexer": "ipython3",
   "version": "3.12.2"
  }
 },
 "nbformat": 4,
 "nbformat_minor": 2
}
